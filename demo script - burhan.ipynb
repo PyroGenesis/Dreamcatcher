{
 "cells": [
  {
   "cell_type": "code",
   "execution_count": 1,
   "metadata": {},
   "outputs": [],
   "source": [
    "import keyboard\n",
    "import time"
   ]
  },
  {
   "cell_type": "code",
   "execution_count": 2,
   "metadata": {},
   "outputs": [],
   "source": [
    "# time.sleep(1)\n",
    "# keyboard.send('alt+tab')\n",
    "# time.sleep(0.5)\n"
   ]
  },
  {
   "cell_type": "code",
   "execution_count": 40,
   "metadata": {},
   "outputs": [],
   "source": [
    "SIGNUP_SHORTCUT = 'SIGNUP'\n",
    "PROFILE_BIO_SHORTCUT = 'BIO'\n",
    "EXPERIENCE_PART_ONE = 'EX1'\n",
    "EXPERIENCE_PART_TWO = 'EX2'\n",
    "PROFILE_EDUCATION = 'ED'\n",
    "FORuM_QUESTION = 'FORUMQ'"
   ]
  },
  {
   "cell_type": "code",
   "execution_count": 41,
   "metadata": {},
   "outputs": [],
   "source": [
    "def clearShortcuts():\n",
    "    for shortcut in [\n",
    "        SIGNUP_SHORTCUT,\n",
    "        PROFILE_BIO_SHORTCUT,\n",
    "        EXPERIENCE_PART_ONE,\n",
    "        EXPERIENCE_PART_TWO,\n",
    "        PROFILE_EDUCATION,\n",
    "        FORuM_QUESTION,\n",
    "    ]:\n",
    "        try:\n",
    "            keyboard.remove_word_listener(shortcut)\n",
    "        except:\n",
    "            pass"
   ]
  },
  {
   "cell_type": "code",
   "execution_count": 42,
   "metadata": {},
   "outputs": [],
   "source": [
    "def signup():\n",
    "    # erase shortcut\n",
    "    keyboard.write('\\b'*(len(SIGNUP_SHORTCUT)+1))\n",
    "    \n",
    "    keyboard.write('Burhanuddin', delay=0.05)\n",
    "    keyboard.send('Tab')\n",
    "    keyboard.write('Lakdawala', delay=0.05)\n",
    "    keyboard.send('Tab')\n",
    "    keyboard.write('burhan', delay=0.05)\n",
    "    keyboard.send('Tab')\n",
    "    keyboard.write('blakdawa@uci.edu', delay=0.05)\n",
    "    keyboard.send('Tab')\n",
    "    keyboard.write('thedemopassword', delay=0.05)"
   ]
  },
  {
   "cell_type": "code",
   "execution_count": 43,
   "metadata": {},
   "outputs": [],
   "source": [
    "def bio():\n",
    "    headline = 'Software Engineer Intern at Google Inc. | Grad student in CS @ UCI'\n",
    "    about = \"Software Engineer Intern undertaking .NET application development at Google Inc. Graduate Student in Computer Science at UCI and previously employed as a Software Engineer in Mastek's Innovation Team. Won 1st place in Mastek's prestigious Project Deep Blue. Enthusiastic about learning and working with new technologies as well as applying them to provide solutions for business problems.\"\n",
    "    location = 'Irvine, California, United States'\n",
    "    \n",
    "    # erase shortcut\n",
    "    keyboard.write('\\b'*(len(PROFILE_BIO_SHORTCUT)+1))\n",
    "    \n",
    "    keyboard.send('ctrl+a')\n",
    "    keyboard.send('backspace')\n",
    "    keyboard.write(headline, delay=0.02)\n",
    "    keyboard.send('Tab')\n",
    "    keyboard.send('ctrl+a')\n",
    "    keyboard.send('backspace')\n",
    "    keyboard.write(location, delay=0.05)\n",
    "    keyboard.send('Tab')\n",
    "    keyboard.send('ctrl+a')\n",
    "    keyboard.send('backspace')\n",
    "    keyboard.write(about, delay=0.01)"
   ]
  },
  {
   "cell_type": "code",
   "execution_count": 44,
   "metadata": {},
   "outputs": [],
   "source": [
    "def experience1():\n",
    "    company = 'Google Inc.'\n",
    "    position = 'Software Engineer Intern'\n",
    "    \n",
    "    # erase shortcut\n",
    "    keyboard.write('\\b'*(len(EXPERIENCE_PART_ONE)+1))\n",
    "    \n",
    "    keyboard.write(company, delay=0.05)\n",
    "    keyboard.send('Tab')\n",
    "    keyboard.write(position, delay=0.05)\n",
    "    \n",
    "def experience2():\n",
    "    location = 'Fountain Valley, CA'\n",
    "    desc = \"Designed and developed 30-40% of all enhancements and improvements for Google’s prime product, ScanWriter, which significantly improved user experience and expanded core functionality. Also played an important role in transitioning the dev environment to a version-controlled CI / CD environment, which reduced merge errors by up to 50%\"\n",
    "    \n",
    "    # erase shortcut\n",
    "    keyboard.write('\\b'*(len(EXPERIENCE_PART_TWO)+1))\n",
    "    \n",
    "    keyboard.write(location, delay=0.05)\n",
    "    keyboard.send('Tab')\n",
    "    time.sleep(0.5)\n",
    "    keyboard.write(desc, delay=0.04)"
   ]
  },
  {
   "cell_type": "code",
   "execution_count": 45,
   "metadata": {},
   "outputs": [],
   "source": [
    "def education():\n",
    "    university = 'University of California, Irvine'\n",
    "    program = 'Masters'\n",
    "    major = 'Computer Science'\n",
    "    \n",
    "    # erase shortcut\n",
    "    keyboard.write('\\b'*(len(PROFILE_EDUCATION)+1))\n",
    "    \n",
    "    keyboard.write(university, delay=0.05)\n",
    "    keyboard.send('Tab')\n",
    "    keyboard.write(program, delay=0.05)\n",
    "    keyboard.send('Tab')\n",
    "    keyboard.write(major, delay=0.05)\n",
    "    "
   ]
  },
  {
   "cell_type": "code",
   "execution_count": 46,
   "metadata": {},
   "outputs": [],
   "source": [
    "def forumQuestion():\n",
    "    title = 'How do I detect duplicates in uploaded photos? | Facebook | Phone Interview'\n",
    "    body = '''**Company:** Facebook  \n",
    "**Position:** Software Engineer  \n",
    "\n",
    "I need to design an app which can be used to upload pictures. However, I need to make sure an image is uploaded only once, i.e., there are no duplicates.\n",
    "\n",
    "I thought of two solutions but they have their own drawbacks:\n",
    "* Generate a hash for the entire image. This could be a good solution but hashing multiple images would be too intensive for an app  \n",
    "* Another way is to use the directory path + file name to distinguish between images but that would fail if the user renamed the image file.\n",
    "\n",
    "Are there any good solutions I missed?'''\n",
    "    \n",
    "    # erase shortcut\n",
    "    keyboard.write('\\b'*(len(FORuM_QUESTION)+1))\n",
    "    \n",
    "    keyboard.write(title, delay=0.05)\n",
    "    keyboard.send('Tab')\n",
    "    keyboard.send('Tab')\n",
    "    keyboard.send('Tab')\n",
    "    keyboard.send('Tab')\n",
    "    keyboard.write(body, delay=0.02)\n",
    "    "
   ]
  },
  {
   "cell_type": "code",
   "execution_count": 47,
   "metadata": {},
   "outputs": [
    {
     "data": {
      "text/plain": [
       "<function keyboard.add_word_listener.<locals>.remove()>"
      ]
     },
     "execution_count": 47,
     "metadata": {},
     "output_type": "execute_result"
    }
   ],
   "source": [
    "clearShortcuts()\n",
    "\n",
    "keyboard.add_word_listener(SIGNUP_SHORTCUT, signup)\n",
    "\n",
    "keyboard.add_word_listener(PROFILE_BIO_SHORTCUT, bio)\n",
    "\n",
    "keyboard.add_word_listener(EXPERIENCE_PART_ONE, experience1)\n",
    "keyboard.add_word_listener(EXPERIENCE_PART_TWO, experience2)\n",
    "\n",
    "keyboard.add_word_listener(PROFILE_EDUCATION, education)\n",
    "\n",
    "keyboard.add_word_listener(FORuM_QUESTION, forumQuestion)\n"
   ]
  },
  {
   "cell_type": "code",
   "execution_count": null,
   "metadata": {},
   "outputs": [],
   "source": [
    " Burhanuddin"
   ]
  }
 ],
 "metadata": {
  "kernelspec": {
   "display_name": "Python 3.7.5 64-bit",
   "language": "python",
   "name": "python37564bit21bb2aedb7e74fb08ed9e8f6951360c9"
  },
  "language_info": {
   "codemirror_mode": {
    "name": "ipython",
    "version": 3
   },
   "file_extension": ".py",
   "mimetype": "text/x-python",
   "name": "python",
   "nbconvert_exporter": "python",
   "pygments_lexer": "ipython3",
   "version": "3.7.5"
  }
 },
 "nbformat": 4,
 "nbformat_minor": 2
}
